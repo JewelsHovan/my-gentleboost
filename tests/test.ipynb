{
 "cells": [
  {
   "cell_type": "code",
   "execution_count": 1,
   "metadata": {},
   "outputs": [],
   "source": [
    "import cupy as cp\n",
    "import cuml\n",
    "import sys\n",
    "sys.path.append('/home/jhovan/Documents/CustomImplementations/gentleboost')\n",
    "from gentleboost import GentleBoost\n"
   ]
  },
  {
   "cell_type": "code",
   "execution_count": 2,
   "metadata": {},
   "outputs": [],
   "source": [
    "from cuml.datasets import make_classification\n",
    "\n",
    "# Create dataset\n",
    "X, y = make_classification(\n",
    "    n_samples=10000,\n",
    "    n_features=20,\n",
    "    n_classes=2,\n",
    "    n_clusters_per_class=3,\n",
    "    n_informative=15,\n",
    "    random_state=42,\n",
    "    class_sep=1.0  # Increase class separation\n",
    ")\n",
    "X = cp.array(X)\n",
    "y = cp.array(y)\n",
    "y_shifted = 2 * y - 1"
   ]
  },
  {
   "cell_type": "code",
   "execution_count": 4,
   "metadata": {},
   "outputs": [
    {
     "name": "stdout",
     "output_type": "stream",
     "text": [
      "Iteration 0, Train Error: 0.3772, Val Error: 0.3705\n",
      "Iteration 10, Train Error: 0.2552, Val Error: 0.2405\n",
      "Iteration 20, Train Error: 0.2124, Val Error: 0.2170\n",
      "Iteration 30, Train Error: 0.1900, Val Error: 0.1915\n",
      "Iteration 40, Train Error: 0.1815, Val Error: 0.1865\n",
      "Iteration 50, Train Error: 0.1705, Val Error: 0.1740\n",
      "Iteration 60, Train Error: 0.1666, Val Error: 0.1715\n",
      "Iteration 70, Train Error: 0.1659, Val Error: 0.1675\n",
      "Iteration 80, Train Error: 0.1653, Val Error: 0.1670\n",
      "Iteration 90, Train Error: 0.1641, Val Error: 0.1670\n",
      "Early stopping at iteration 94. Best val error: 0.1665\n",
      "\n",
      "Parameters: learning_rate=1.0, n_estimators=100\n",
      "Training Accuracy: 0.8348\n",
      "Iteration 0, Train Error: 0.3706, Val Error: 0.3985\n",
      "Iteration 10, Train Error: 0.2559, Val Error: 0.2635\n",
      "Iteration 20, Train Error: 0.2137, Val Error: 0.2305\n",
      "Iteration 30, Train Error: 0.1903, Val Error: 0.2105\n",
      "Iteration 40, Train Error: 0.1762, Val Error: 0.1950\n",
      "Iteration 50, Train Error: 0.1700, Val Error: 0.1830\n",
      "Iteration 60, Train Error: 0.1651, Val Error: 0.1815\n",
      "Early stopping at iteration 64. Best val error: 0.1795\n",
      "\n",
      "Parameters: learning_rate=1.0, n_estimators=200\n",
      "Training Accuracy: 0.8294\n",
      "Iteration 0, Train Error: 0.3733, Val Error: 0.3885\n",
      "Iteration 10, Train Error: 0.2526, Val Error: 0.2750\n",
      "Iteration 20, Train Error: 0.2109, Val Error: 0.2340\n",
      "Iteration 30, Train Error: 0.1891, Val Error: 0.2135\n",
      "Iteration 40, Train Error: 0.1718, Val Error: 0.2045\n",
      "Iteration 50, Train Error: 0.1626, Val Error: 0.1910\n",
      "Iteration 60, Train Error: 0.1589, Val Error: 0.1915\n",
      "Iteration 70, Train Error: 0.1566, Val Error: 0.1880\n",
      "Iteration 80, Train Error: 0.1547, Val Error: 0.1860\n",
      "Iteration 90, Train Error: 0.1540, Val Error: 0.1870\n",
      "Early stopping at iteration 93. Best val error: 0.1850\n",
      "\n",
      "Parameters: learning_rate=1.0, n_estimators=300\n",
      "Training Accuracy: 0.8389\n",
      "Iteration 0, Train Error: 0.3796, Val Error: 0.3625\n",
      "Iteration 10, Train Error: 0.2614, Val Error: 0.2610\n",
      "Iteration 20, Train Error: 0.2127, Val Error: 0.2080\n",
      "Iteration 30, Train Error: 0.1886, Val Error: 0.1850\n",
      "Iteration 40, Train Error: 0.1777, Val Error: 0.1720\n",
      "Iteration 50, Train Error: 0.1726, Val Error: 0.1695\n",
      "Iteration 60, Train Error: 0.1685, Val Error: 0.1665\n",
      "Iteration 70, Train Error: 0.1681, Val Error: 0.1635\n",
      "Early stopping at iteration 77. Best val error: 0.1630\n",
      "\n",
      "Parameters: learning_rate=1.0, n_estimators=400\n",
      "Training Accuracy: 0.8322\n",
      "Iteration 0, Train Error: 0.3792, Val Error: 0.3645\n",
      "Iteration 10, Train Error: 0.2529, Val Error: 0.2560\n",
      "Iteration 20, Train Error: 0.2127, Val Error: 0.2215\n",
      "Early stopping at iteration 24. Best val error: 0.2180\n",
      "\n",
      "Parameters: learning_rate=1.0, n_estimators=500\n",
      "Training Accuracy: 0.7715\n",
      "\n",
      "Best parameters: {'learning_rate': 1.0, 'n_estimators': 300}\n",
      "Best accuracy: 0.8389\n"
     ]
    }
   ],
   "source": [
    "# Try different parameters\n",
    "learning_rates = [1.0]\n",
    "n_estimators_list = [100, 200, 300, 400, 500]\n",
    "\n",
    "best_accuracy = 0\n",
    "best_params = {}\n",
    "\n",
    "for lr in learning_rates:\n",
    "    for n_est in n_estimators_list:\n",
    "        gb_classifier = GentleBoost(n_estimators=n_est, learning_rate=lr, patience=20)\n",
    "        gb_classifier.fit(X, y_shifted)\n",
    "        y_pred = gb_classifier.predict(X)\n",
    "        accuracy = cp.mean(y_shifted == y_pred)\n",
    "        \n",
    "        print(f\"\\nParameters: learning_rate={lr}, n_estimators={n_est}\")\n",
    "        print(f\"Training Accuracy: {accuracy:.4f}\")\n",
    "        \n",
    "        if accuracy > best_accuracy:\n",
    "            best_accuracy = accuracy\n",
    "            best_params = {'learning_rate': lr, 'n_estimators': n_est}\n",
    "\n",
    "print(f\"\\nBest parameters: {best_params}\")\n",
    "print(f\"Best accuracy: {best_accuracy:.4f}\")"
   ]
  },
  {
   "cell_type": "code",
   "execution_count": 9,
   "metadata": {},
   "outputs": [
    {
     "name": "stdout",
     "output_type": "stream",
     "text": [
      "[W] [17:04:52.468233] L-BFGS stopped, because the line search failed to advance (step delta = 0.000000)\n",
      "Logistic Regression Accuracy: 0.9605\n"
     ]
    }
   ],
   "source": [
    "from cuml.linear_model import LogisticRegression\n",
    "\n",
    "lr_classifier = LogisticRegression()\n",
    "lr_classifier.fit(X, y)\n",
    "y_pred = lr_classifier.predict(X)\n",
    "accuracy = cp.mean(y == y_pred)\n",
    "print(f\"Logistic Regression Accuracy: {accuracy:.4f}\")"
   ]
  },
  {
   "cell_type": "code",
   "execution_count": 10,
   "metadata": {},
   "outputs": [
    {
     "name": "stdout",
     "output_type": "stream",
     "text": [
      "KNN with 3 neighbors Accuracy: 0.9842\n",
      "KNN with 5 neighbors Accuracy: 0.9821\n",
      "KNN with 7 neighbors Accuracy: 0.9797\n",
      "KNN with 9 neighbors Accuracy: 0.9794\n",
      "\n",
      "Best parameters: {'n_neighbors': 3}\n",
      "Best accuracy: 0.9842\n"
     ]
    }
   ],
   "source": [
    "# comparing to KNN classifier\n",
    "from cuml.neighbors import KNeighborsClassifier\n",
    "\n",
    "# try KNN with differnt number of neighbors\n",
    "k_values = [3, 5, 7, 9]\n",
    "for k in k_values:\n",
    "    knn_classifier = KNeighborsClassifier(n_neighbors=k)\n",
    "    knn_classifier.fit(X, y)\n",
    "    y_pred = knn_classifier.predict(X)\n",
    "    accuracy = cp.mean(y == y_pred)\n",
    "    print(f\"KNN with {k} neighbors Accuracy: {accuracy:.4f}\")\n",
    "\n",
    "    if accuracy > best_accuracy:\n",
    "        best_accuracy = accuracy\n",
    "        best_params = {'n_neighbors': k}\n",
    "\n",
    "print(f\"\\nBest parameters: {best_params}\")\n",
    "print(f\"Best accuracy: {best_accuracy:.4f}\")"
   ]
  }
 ],
 "metadata": {
  "kernelspec": {
   "display_name": "venv",
   "language": "python",
   "name": "python3"
  },
  "language_info": {
   "codemirror_mode": {
    "name": "ipython",
    "version": 3
   },
   "file_extension": ".py",
   "mimetype": "text/x-python",
   "name": "python",
   "nbconvert_exporter": "python",
   "pygments_lexer": "ipython3",
   "version": "3.10.12"
  }
 },
 "nbformat": 4,
 "nbformat_minor": 2
}
