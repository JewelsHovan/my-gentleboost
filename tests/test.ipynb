{
 "cells": [
  {
   "cell_type": "code",
   "execution_count": 1,
   "metadata": {},
   "outputs": [],
   "source": [
    "import cupy as cp\n",
    "import cuml\n",
    "import sys\n",
    "sys.path.append('/home/jhovan/Documents/CustomImplementations/gentleboost')\n",
    "from gentleboost import GentleBoost\n"
   ]
  },
  {
   "cell_type": "code",
   "execution_count": 2,
   "metadata": {},
   "outputs": [],
   "source": [
    "from cuml.datasets import make_classification\n",
    "\n",
    "# Create dataset\n",
    "X, y = make_classification(\n",
    "    n_samples=10000,\n",
    "    n_features=20,\n",
    "    n_classes=2,\n",
    "    n_clusters_per_class=3,\n",
    "    n_informative=15,\n",
    "    random_state=42,\n",
    "    class_sep=1.0  # Increase class separation\n",
    ")\n",
    "X = cp.array(X)\n",
    "y = cp.array(y)\n",
    "y_shifted = 2 * y - 1"
   ]
  },
  {
   "cell_type": "code",
   "execution_count": 5,
   "metadata": {},
   "outputs": [
    {
     "name": "stdout",
     "output_type": "stream",
     "text": [
      "Iteration 0, Train Error: 0.3751, Val Error: 0.3810\n",
      "Iteration 10, Train Error: 0.2492, Val Error: 0.2620\n",
      "Iteration 20, Train Error: 0.2147, Val Error: 0.2265\n",
      "Iteration 30, Train Error: 0.1904, Val Error: 0.2060\n",
      "Iteration 40, Train Error: 0.1746, Val Error: 0.1940\n",
      "Iteration 50, Train Error: 0.1659, Val Error: 0.1880\n",
      "Iteration 60, Train Error: 0.1623, Val Error: 0.1820\n",
      "Iteration 70, Train Error: 0.1599, Val Error: 0.1825\n",
      "Iteration 80, Train Error: 0.1594, Val Error: 0.1815\n",
      "Early stopping at iteration 87. Best val error: 0.1790\n",
      "\n",
      "Parameters: learning_rate=1.0, n_estimators=100\n",
      "Training Accuracy: 0.8354\n",
      "Iteration 0, Train Error: 0.3757, Val Error: 0.3755\n",
      "Iteration 10, Train Error: 0.2647, Val Error: 0.2675\n",
      "Iteration 20, Train Error: 0.2151, Val Error: 0.2060\n",
      "Iteration 30, Train Error: 0.1924, Val Error: 0.1910\n",
      "Iteration 40, Train Error: 0.1760, Val Error: 0.1755\n",
      "Iteration 50, Train Error: 0.1689, Val Error: 0.1720\n",
      "Iteration 60, Train Error: 0.1666, Val Error: 0.1660\n",
      "Iteration 70, Train Error: 0.1631, Val Error: 0.1630\n",
      "Iteration 80, Train Error: 0.1631, Val Error: 0.1615\n",
      "Iteration 90, Train Error: 0.1619, Val Error: 0.1600\n",
      "Iteration 100, Train Error: 0.1623, Val Error: 0.1585\n",
      "Iteration 110, Train Error: 0.1621, Val Error: 0.1570\n",
      "Iteration 120, Train Error: 0.1623, Val Error: 0.1570\n",
      "Iteration 130, Train Error: 0.1616, Val Error: 0.1565\n",
      "Early stopping at iteration 133. Best val error: 0.1565\n",
      "\n",
      "Parameters: learning_rate=1.0, n_estimators=200\n",
      "Training Accuracy: 0.8391\n",
      "Iteration 0, Train Error: 0.3752, Val Error: 0.3775\n",
      "Iteration 10, Train Error: 0.2665, Val Error: 0.2545\n",
      "Iteration 20, Train Error: 0.2051, Val Error: 0.2040\n",
      "Iteration 30, Train Error: 0.1856, Val Error: 0.1815\n",
      "Iteration 40, Train Error: 0.1729, Val Error: 0.1705\n",
      "Iteration 50, Train Error: 0.1679, Val Error: 0.1650\n",
      "Iteration 60, Train Error: 0.1626, Val Error: 0.1600\n",
      "Iteration 70, Train Error: 0.1586, Val Error: 0.1560\n",
      "Iteration 80, Train Error: 0.1585, Val Error: 0.1555\n",
      "Iteration 90, Train Error: 0.1581, Val Error: 0.1555\n",
      "Iteration 100, Train Error: 0.1571, Val Error: 0.1565\n",
      "Iteration 110, Train Error: 0.1570, Val Error: 0.1560\n",
      "Early stopping at iteration 112. Best val error: 0.1545\n",
      "\n",
      "Parameters: learning_rate=1.0, n_estimators=300\n",
      "Training Accuracy: 0.8430\n",
      "Iteration 0, Train Error: 0.3749, Val Error: 0.3900\n",
      "Iteration 10, Train Error: 0.2499, Val Error: 0.2640\n",
      "Iteration 20, Train Error: 0.2141, Val Error: 0.2140\n",
      "Iteration 30, Train Error: 0.1930, Val Error: 0.2020\n",
      "Iteration 40, Train Error: 0.1796, Val Error: 0.1865\n",
      "Iteration 50, Train Error: 0.1681, Val Error: 0.1810\n",
      "Iteration 60, Train Error: 0.1638, Val Error: 0.1765\n",
      "Iteration 70, Train Error: 0.1619, Val Error: 0.1750\n",
      "Iteration 80, Train Error: 0.1608, Val Error: 0.1760\n",
      "Iteration 90, Train Error: 0.1598, Val Error: 0.1770\n",
      "Early stopping at iteration 96. Best val error: 0.1740\n",
      "\n",
      "Parameters: learning_rate=1.0, n_estimators=400\n",
      "Training Accuracy: 0.8358\n",
      "Iteration 0, Train Error: 0.3739, Val Error: 0.3835\n",
      "Iteration 10, Train Error: 0.2590, Val Error: 0.2470\n",
      "Iteration 20, Train Error: 0.2166, Val Error: 0.2125\n",
      "Iteration 30, Train Error: 0.1914, Val Error: 0.1815\n",
      "Iteration 40, Train Error: 0.1751, Val Error: 0.1740\n",
      "Iteration 50, Train Error: 0.1713, Val Error: 0.1730\n",
      "Iteration 60, Train Error: 0.1663, Val Error: 0.1715\n",
      "Iteration 70, Train Error: 0.1648, Val Error: 0.1695\n",
      "Iteration 80, Train Error: 0.1638, Val Error: 0.1695\n",
      "Early stopping at iteration 84. Best val error: 0.1680\n",
      "\n",
      "Parameters: learning_rate=1.0, n_estimators=500\n",
      "Training Accuracy: 0.8337\n",
      "\n",
      "Best parameters: {'learning_rate': 1.0, 'n_estimators': 300}\n",
      "Best accuracy: 0.8430\n"
     ]
    }
   ],
   "source": [
    "# Try different parameters\n",
    "learning_rates = [1.0]\n",
    "n_estimators_list = [100, 200, 300, 400, 500]\n",
    "\n",
    "best_accuracy = 0\n",
    "best_params = {}\n",
    "\n",
    "for lr in learning_rates:\n",
    "    for n_est in n_estimators_list:\n",
    "        gb_classifier = GentleBoost(n_estimators=n_est, learning_rate=lr, patience=20)\n",
    "        gb_classifier.fit(X, y_shifted)\n",
    "        y_pred = gb_classifier.predict(X)\n",
    "        accuracy = cp.mean(y_shifted == y_pred)\n",
    "        \n",
    "        print(f\"\\nParameters: learning_rate={lr}, n_estimators={n_est}\")\n",
    "        print(f\"Training Accuracy: {accuracy:.4f}\")\n",
    "        \n",
    "        if accuracy > best_accuracy:\n",
    "            best_accuracy = accuracy\n",
    "            best_params = {'learning_rate': lr, 'n_estimators': n_est}\n",
    "\n",
    "print(f\"\\nBest parameters: {best_params}\")\n",
    "print(f\"Best accuracy: {best_accuracy:.4f}\")"
   ]
  },
  {
   "cell_type": "code",
   "execution_count": 9,
   "metadata": {},
   "outputs": [
    {
     "name": "stdout",
     "output_type": "stream",
     "text": [
      "[W] [17:04:52.468233] L-BFGS stopped, because the line search failed to advance (step delta = 0.000000)\n",
      "Logistic Regression Accuracy: 0.9605\n"
     ]
    }
   ],
   "source": [
    "from cuml.linear_model import LogisticRegression\n",
    "\n",
    "lr_classifier = LogisticRegression()\n",
    "lr_classifier.fit(X, y)\n",
    "y_pred = lr_classifier.predict(X)\n",
    "accuracy = cp.mean(y == y_pred)\n",
    "print(f\"Logistic Regression Accuracy: {accuracy:.4f}\")"
   ]
  },
  {
   "cell_type": "code",
   "execution_count": 10,
   "metadata": {},
   "outputs": [
    {
     "name": "stdout",
     "output_type": "stream",
     "text": [
      "KNN with 3 neighbors Accuracy: 0.9842\n",
      "KNN with 5 neighbors Accuracy: 0.9821\n",
      "KNN with 7 neighbors Accuracy: 0.9797\n",
      "KNN with 9 neighbors Accuracy: 0.9794\n",
      "\n",
      "Best parameters: {'n_neighbors': 3}\n",
      "Best accuracy: 0.9842\n"
     ]
    }
   ],
   "source": [
    "# comparing to KNN classifier\n",
    "from cuml.neighbors import KNeighborsClassifier\n",
    "\n",
    "# try KNN with differnt number of neighbors\n",
    "k_values = [3, 5, 7, 9]\n",
    "for k in k_values:\n",
    "    knn_classifier = KNeighborsClassifier(n_neighbors=k)\n",
    "    knn_classifier.fit(X, y)\n",
    "    y_pred = knn_classifier.predict(X)\n",
    "    accuracy = cp.mean(y == y_pred)\n",
    "    print(f\"KNN with {k} neighbors Accuracy: {accuracy:.4f}\")\n",
    "\n",
    "    if accuracy > best_accuracy:\n",
    "        best_accuracy = accuracy\n",
    "        best_params = {'n_neighbors': k}\n",
    "\n",
    "print(f\"\\nBest parameters: {best_params}\")\n",
    "print(f\"Best accuracy: {best_accuracy:.4f}\")"
   ]
  }
 ],
 "metadata": {
  "kernelspec": {
   "display_name": "venv",
   "language": "python",
   "name": "python3"
  },
  "language_info": {
   "codemirror_mode": {
    "name": "ipython",
    "version": 3
   },
   "file_extension": ".py",
   "mimetype": "text/x-python",
   "name": "python",
   "nbconvert_exporter": "python",
   "pygments_lexer": "ipython3",
   "version": "3.10.12"
  }
 },
 "nbformat": 4,
 "nbformat_minor": 2
}
