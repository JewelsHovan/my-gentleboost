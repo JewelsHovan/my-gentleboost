{
 "cells": [
  {
   "cell_type": "code",
   "execution_count": 1,
   "metadata": {},
   "outputs": [],
   "source": [
    "import cupy as cp\n",
    "import cuml\n",
    "import sys\n",
    "sys.path.append('/home/jhovan/Documents/CustomImplementations/gentleboost')\n",
    "from gentleboost import GentleBoost\n"
   ]
  },
  {
   "cell_type": "code",
   "execution_count": 2,
   "metadata": {},
   "outputs": [],
   "source": [
    "from cuml.datasets import make_classification\n",
    "\n",
    "# Create dataset\n",
    "X, y = make_classification(\n",
    "    n_samples=10000,\n",
    "    n_features=20,\n",
    "    n_classes=2,\n",
    "    n_clusters_per_class=3,\n",
    "    n_informative=15,\n",
    "    random_state=42,\n",
    "    class_sep=1.0  # Increase class separation\n",
    ")\n",
    "X = cp.array(X)\n",
    "y = cp.array(y)\n",
    "y_shifted = 2 * y - 1\n",
    "# scale X\n",
    "X_scaled = X / cp.linalg.norm(X, axis=0)\n"
   ]
  },
  {
   "cell_type": "code",
   "execution_count": 3,
   "metadata": {},
   "outputs": [
    {
     "name": "stdout",
     "output_type": "stream",
     "text": [
      "Iteration 0, Training Error: 0.3759\n",
      "Iteration 10, Training Error: 0.2354\n",
      "Iteration 20, Training Error: 0.1986\n",
      "Iteration 30, Training Error: 0.1676\n",
      "Iteration 40, Training Error: 0.1532\n"
     ]
    }
   ],
   "source": [
    "# Try different numbers of estimators\n",
    "n_estimators_list = [100, 200, 300, 400, 500]\n",
    "\n",
    "best_accuracy = 0\n",
    "best_params = {}\n",
    "\n",
    "for n_est in n_estimators_list:\n",
    "    gb_classifier = GentleBoost(n_estimators=n_est)\n",
    "    gb_classifier.fit(X_scaled, y_shifted)\n",
    "    y_pred = gb_classifier.predict(X_scaled)\n",
    "    accuracy = cp.mean(y_shifted == y_pred)\n",
    "    \n",
    "    print(f\"\\nParameters: n_estimators={n_est}\")\n",
    "    print(f\"Training Accuracy: {accuracy:.4f}\")\n",
    "    print(f\"Final Training Error: {gb_classifier.training_errors_[-1]:.4f}\")\n",
    "    \n",
    "    if accuracy > best_accuracy:\n",
    "        best_accuracy = accuracy\n",
    "        best_params = {'n_estimators': n_est}\n",
    "\n",
    "print(f\"\\nBest parameters: {best_params}\")\n",
    "print(f\"Best accuracy: {best_accuracy:.4f}\")\n",
    "\n",
    "# Optional: Plot training error curve for best model\n",
    "import matplotlib.pyplot as plt\n",
    "\n",
    "best_gb = GentleBoost(n_estimators=best_params['n_estimators'])\n",
    "best_gb.fit(X_scaled, y_shifted)\n",
    "\n",
    "plt.figure(figsize=(10, 6))\n",
    "plt.plot(best_gb.training_errors_)\n",
    "plt.title('Training Error vs Iterations')\n",
    "plt.xlabel('Iteration')\n",
    "plt.ylabel('Training Error')\n",
    "plt.grid(True)\n",
    "plt.show()"
   ]
  },
  {
   "cell_type": "code",
   "execution_count": 9,
   "metadata": {},
   "outputs": [
    {
     "name": "stdout",
     "output_type": "stream",
     "text": [
      "Dummy Classifier (most_frequent) Accuracy: 0.5088\n"
     ]
    }
   ],
   "source": [
    "# Try DummyClassifier with most_frequent strategy\n",
    "from sklearn.dummy import DummyClassifier\n",
    "\n",
    "dummy_clf = DummyClassifier(strategy='most_frequent')\n",
    "dummy_clf.fit(X.get(), y.get())\n",
    "y_pred = dummy_clf.predict(X.get())\n",
    "accuracy = cp.mean(y.get() == y_pred)\n",
    "print(f\"Dummy Classifier (most_frequent) Accuracy: {accuracy:.4f}\")\n"
   ]
  },
  {
   "cell_type": "code",
   "execution_count": 4,
   "metadata": {},
   "outputs": [
    {
     "name": "stdout",
     "output_type": "stream",
     "text": [
      "Logistic Regression Accuracy: 0.9602\n"
     ]
    }
   ],
   "source": [
    "from cuml.linear_model import LogisticRegression\n",
    "\n",
    "lr_classifier = LogisticRegression()\n",
    "lr_classifier.fit(X, y)\n",
    "y_pred = lr_classifier.predict(X)\n",
    "accuracy = cp.mean(y == y_pred)\n",
    "print(f\"Logistic Regression Accuracy: {accuracy:.4f}\")"
   ]
  },
  {
   "cell_type": "code",
   "execution_count": 5,
   "metadata": {},
   "outputs": [
    {
     "name": "stdout",
     "output_type": "stream",
     "text": [
      "KNN with 3 neighbors Accuracy: 0.9842\n",
      "KNN with 5 neighbors Accuracy: 0.9821\n",
      "KNN with 7 neighbors Accuracy: 0.9797\n",
      "KNN with 9 neighbors Accuracy: 0.9794\n",
      "\n",
      "Best parameters: {'n_neighbors': 3}\n",
      "Best accuracy: 0.9842\n"
     ]
    }
   ],
   "source": [
    "# comparing to KNN classifier\n",
    "from cuml.neighbors import KNeighborsClassifier\n",
    "\n",
    "# try KNN with differnt number of neighbors\n",
    "k_values = [3, 5, 7, 9]\n",
    "for k in k_values:\n",
    "    knn_classifier = KNeighborsClassifier(n_neighbors=k)\n",
    "    knn_classifier.fit(X, y)\n",
    "    y_pred = knn_classifier.predict(X)\n",
    "    accuracy = cp.mean(y == y_pred)\n",
    "    print(f\"KNN with {k} neighbors Accuracy: {accuracy:.4f}\")\n",
    "\n",
    "    if accuracy > best_accuracy:\n",
    "        best_accuracy = accuracy\n",
    "        best_params = {'n_neighbors': k}\n",
    "\n",
    "print(f\"\\nBest parameters: {best_params}\")\n",
    "print(f\"Best accuracy: {best_accuracy:.4f}\")"
   ]
  },
  {
   "cell_type": "code",
   "execution_count": null,
   "metadata": {},
   "outputs": [],
   "source": []
  }
 ],
 "metadata": {
  "kernelspec": {
   "display_name": "venv",
   "language": "python",
   "name": "python3"
  },
  "language_info": {
   "codemirror_mode": {
    "name": "ipython",
    "version": 3
   },
   "file_extension": ".py",
   "mimetype": "text/x-python",
   "name": "python",
   "nbconvert_exporter": "python",
   "pygments_lexer": "ipython3",
   "version": "3.10.12"
  }
 },
 "nbformat": 4,
 "nbformat_minor": 2
}
